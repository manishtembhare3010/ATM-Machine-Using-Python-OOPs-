{
 "cells": [
  {
   "cell_type": "markdown",
   "id": "affad878",
   "metadata": {},
   "source": [
    "# ATM MACHINE"
   ]
  },
  {
   "cell_type": "code",
   "execution_count": 57,
   "id": "1d6e17a2",
   "metadata": {},
   "outputs": [],
   "source": [
    "class ATM:  \n",
    "    \n",
    "    # defining atributes inside constroctor\n",
    "    def __init__(self):\n",
    "        self.pin=\"\"# for storing pin\n",
    "        self.balance=0 # for storing balance\n",
    "        self.start()# calling start method to show welcome message and  choosing the option\n",
    "        \n",
    "    # method for showing welcome message and entering the choice    \n",
    "    def start(self):\n",
    "        choice=input(\"\"\"\\t    Welcome to the ATM\n",
    "                 Please enter a choice \n",
    "                 1.generate ATM pin\n",
    "                 2.check bank balance\n",
    "                 3.cash deposite\n",
    "                 4.cash withdraw\n",
    "                 5.exit\\n\"\"\")\n",
    "        \n",
    "        \n",
    "        if choice==\"1\":\n",
    "            self.generate_pin()\n",
    "\n",
    "        if choice=='2':\n",
    "            self.cheak_balance()\n",
    "\n",
    "        if choice =='3':\n",
    "            self.deposite()\n",
    "            \n",
    "        if choice == '4':\n",
    "            print(\"withdraw\")\n",
    "            \n",
    "        if choice=='5':\n",
    "            print(\"BY_BY\")\n",
    "            \n",
    "    # method for generating the pin\n",
    "    def generate_pin(self):\n",
    "        self.pin=input(\"enter a pin\")\n",
    "        print(\"pin set successfully\")\n",
    "        self.start()\n",
    "        \n",
    "        \n",
    "    # method for cheaking bank balance   \n",
    "    def cheak_balance(self):\n",
    "        pin=input('enter a pin')\n",
    "        if pin==self.pin: \n",
    "            print(\"you avalable balance :\")\n",
    "            print(self.balance)\n",
    "        else:\n",
    "            print(\"invalid pin\")\n",
    "            \n",
    "            \n",
    "    #method for depositing the money    \n",
    "    def deposite(self):\n",
    "        pin=input('enter a pin')\n",
    "        if pin==self.pin: \n",
    "            amount=int(input(\"enter a amount\"))\n",
    "            self.balance+=amount\n",
    "            print(\"amount deposite successfully\")\n",
    "        else:\n",
    "            print(\"invald pin\")\n",
    "            \n",
    "    # method for withdraw the money       \n",
    "    def withdraw(self):\n",
    "        pin=input('enter a pin')\n",
    "        if pin==self.pin: \n",
    "            amount=int(input(\"enter a amount\"))\n",
    "            self.balance-=amount\n",
    "            print(\"amount withdaw successfully\")\n",
    "            if amount>self.balance:\n",
    "                print(\"insufficient balance\")\n",
    "        else:\n",
    "            print(\"invalid pin\")\n",
    "        \n",
    "        "
   ]
  },
  {
   "cell_type": "code",
   "execution_count": 58,
   "id": "e1d6f75c",
   "metadata": {},
   "outputs": [
    {
     "name": "stdout",
     "output_type": "stream",
     "text": [
      "\t    Welcome to the ATM\n",
      "                 Please enter a choice \n",
      "                 1.generate ATM pin\n",
      "                 2.check bank balance\n",
      "                 3.cash deposite\n",
      "                 4.cash withdraw\n",
      "                 5.exit\n",
      "1\n",
      "enter a pin1234\n",
      "pin set successfully\n",
      "\t    Welcome to the ATM\n",
      "                 Please enter a choice \n",
      "                 1.generate ATM pin\n",
      "                 2.check bank balance\n",
      "                 3.cash deposite\n",
      "                 4.cash withdraw\n",
      "                 5.exit\n",
      "3\n",
      "enter a pin5476\n",
      "invald pin\n"
     ]
    }
   ],
   "source": [
    "# creating object of ATM class\n",
    "sbi=ATM()"
   ]
  },
  {
   "cell_type": "code",
   "execution_count": 59,
   "id": "733c143f",
   "metadata": {},
   "outputs": [
    {
     "name": "stdout",
     "output_type": "stream",
     "text": [
      "enter a pin1234\n",
      "enter a amount5000\n",
      "amount deposite successfully\n"
     ]
    }
   ],
   "source": [
    "sbi.deposite()"
   ]
  },
  {
   "cell_type": "code",
   "execution_count": 60,
   "id": "ff10a5f0",
   "metadata": {},
   "outputs": [
    {
     "name": "stdout",
     "output_type": "stream",
     "text": [
      "enter a pin1234\n",
      "you avalable balance :\n",
      "5000\n"
     ]
    }
   ],
   "source": [
    "sbi.cheak_balance()"
   ]
  },
  {
   "cell_type": "code",
   "execution_count": 61,
   "id": "04dfeb02",
   "metadata": {},
   "outputs": [
    {
     "name": "stdout",
     "output_type": "stream",
     "text": [
      "enter a pin1234\n",
      "enter a amount1000\n",
      "amount withdaw successfully\n"
     ]
    }
   ],
   "source": [
    "sbi.withdraw()"
   ]
  },
  {
   "cell_type": "code",
   "execution_count": 62,
   "id": "106f97bc",
   "metadata": {},
   "outputs": [
    {
     "name": "stdout",
     "output_type": "stream",
     "text": [
      "enter a pin1234\n",
      "you avalable balance :\n",
      "4000\n"
     ]
    }
   ],
   "source": [
    "sbi.cheak_balance()"
   ]
  },
  {
   "cell_type": "code",
   "execution_count": 63,
   "id": "06e4bfab",
   "metadata": {},
   "outputs": [
    {
     "name": "stdout",
     "output_type": "stream",
     "text": [
      "enter a pin1234\n",
      "enter a amount100000\n",
      "amount withdaw successfully\n",
      "insufficient balance\n"
     ]
    }
   ],
   "source": [
    "sbi.withdraw()"
   ]
  },
  {
   "cell_type": "code",
   "execution_count": null,
   "id": "26066f9b",
   "metadata": {},
   "outputs": [],
   "source": []
  }
 ],
 "metadata": {
  "kernelspec": {
   "display_name": "Python 3 (ipykernel)",
   "language": "python",
   "name": "python3"
  },
  "language_info": {
   "codemirror_mode": {
    "name": "ipython",
    "version": 3
   },
   "file_extension": ".py",
   "mimetype": "text/x-python",
   "name": "python",
   "nbconvert_exporter": "python",
   "pygments_lexer": "ipython3",
   "version": "3.10.9"
  }
 },
 "nbformat": 4,
 "nbformat_minor": 5
}
